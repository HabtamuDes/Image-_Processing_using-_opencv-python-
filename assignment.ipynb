{
 "cells": [
  {
   "cell_type": "code",
   "execution_count": null,
   "metadata": {},
   "outputs": [],
   "source": [
    "#rotation\n",
    "import cv2\n",
    "import numpy as np\n",
    "\n",
    "img = cv2.imread('face_1.jpg')\n",
    "\n",
    "num_rows, num_cols = img.shape[:2]\n",
    "\n",
    "rotation_matrix = cv2.getRotationMatrix2D((num_cols/2, num_rows/2), 30, 1)\n",
    "\n",
    "img_rotation = cv2.warpAffine(img, rotation_matrix, (num_cols, num_rows))\n",
    "\n",
    "cv2.imshow('Rotation', img_rotation)\n",
    "cv2.waitKey()\n",
    "cv2.destroyAllWindows(0)"
   ]
  },
  {
   "cell_type": "code",
   "execution_count": null,
   "metadata": {},
   "outputs": [],
   "source": []
  },
  {
   "cell_type": "code",
   "execution_count": null,
   "metadata": {},
   "outputs": [],
   "source": []
  },
  {
   "cell_type": "code",
   "execution_count": null,
   "metadata": {},
   "outputs": [],
   "source": [
    "#croping\n",
    "import cv2\n",
    "\n",
    "import numpy as np\n",
    "\n",
    "img = cv2.imread(\"face_1.jpg\")\n",
    " \n",
    "height, width = img.shape[0:2]\n",
    "\n",
    "startRow = int(height*.15)\n",
    " \n",
    "startCol = int(width*.15)\n",
    " \n",
    "endRow = int(height*.85)\n",
    " \n",
    "endCol = int(width*.85)\n",
    "\n",
    "croppedImage = img[startRow:endRow, startCol:endCol]\n",
    "\n",
    "cv2.imshow('Original Image', img)\n",
    " \n",
    "cv2.imshow('Cropped Image', croppedImage)\n",
    " \n",
    "cv2.waitKey(0)\n",
    "cv2.destroyAllwindows()"
   ]
  },
  {
   "cell_type": "code",
   "execution_count": null,
   "metadata": {},
   "outputs": [],
   "source": []
  },
  {
   "cell_type": "code",
   "execution_count": null,
   "metadata": {},
   "outputs": [],
   "source": []
  },
  {
   "cell_type": "code",
   "execution_count": null,
   "metadata": {},
   "outputs": [
    {
     "name": "stdout",
     "output_type": "stream",
     "text": [
      "Original Dimensions :  (760, 1140, 3)\n",
      "Resized Dimensions :  (456, 684, 3)\n"
     ]
    }
   ],
   "source": [
    "#scaling\n",
    "import cv2\n",
    " \n",
    "img = cv2.imread('face_1.jpg', cv2.IMREAD_UNCHANGED)\n",
    " \n",
    "print('Original Dimensions : ',img.shape)\n",
    " \n",
    "scale_percent = 60 # percent of original size\n",
    "width = int(img.shape[1] * scale_percent / 100)\n",
    "height = int(img.shape[0] * scale_percent / 100)\n",
    "dim = (width, height)\n",
    "# resize image\n",
    "resized = cv2.resize(img, dim, interpolation = cv2.INTER_AREA)\n",
    " \n",
    "print('Resized Dimensions : ',resized.shape)\n",
    " \n",
    "cv2.imshow(\"Resized image\", resized)\n",
    "cv2.waitKey(0)\n",
    "cv2.destroyAllWindows()"
   ]
  },
  {
   "cell_type": "code",
   "execution_count": null,
   "metadata": {},
   "outputs": [],
   "source": []
  },
  {
   "cell_type": "code",
   "execution_count": null,
   "metadata": {},
   "outputs": [],
   "source": [
    "#translation\n",
    "import cv2\n",
    "import numpy as np\n",
    "\n",
    "img = cv2.imread('face_1.jpg')\n",
    "num_rows, num_cols = img.shape[:2]\n",
    "\n",
    "translation_matrix = np.float32([ [1,0,70], [0,1,110] ])\n",
    "img_translation = cv2.warpAffine(img, translation_matrix, (num_cols + 70, num_rows + 110))\n",
    "translation_matrix = np.float32([ [1,0,-30], [0,1,-50] ])\n",
    "img_translation = cv2.warpAffine(img_translation, translation_matrix, (num_cols + 70 + 30, num_rows + 110 + 50))\n",
    "cv2.imshow('Translation', img_translation)\n",
    "cv2.waitKey()\n",
    "cv2.destroyAllwindows()"
   ]
  },
  {
   "cell_type": "code",
   "execution_count": null,
   "metadata": {},
   "outputs": [],
   "source": []
  },
  {
   "cell_type": "code",
   "execution_count": null,
   "metadata": {},
   "outputs": [],
   "source": [
    "#contrast \n",
    "import cv2\n",
    "import numpy as np\n",
    "\n",
    "img = cv2.imread('face_1.jpg')\n",
    "\n",
    "contrast_img = cv2.addWeighted(img, 2.5, np.zeros(img.shape, img.dtype), 0, 0)\n",
    " \n",
    "cv2.imshow('Original Image', img)\n",
    " \n",
    "cv2.imshow('Contrast Image', contrast_img)\n",
    " \n",
    "cv2.waitKey(0)"
   ]
  },
  {
   "cell_type": "code",
   "execution_count": null,
   "metadata": {},
   "outputs": [],
   "source": []
  }
 ],
 "metadata": {
  "kernelspec": {
   "display_name": "Python 3",
   "language": "python",
   "name": "python3"
  },
  "language_info": {
   "codemirror_mode": {
    "name": "ipython",
    "version": 3
   },
   "file_extension": ".py",
   "mimetype": "text/x-python",
   "name": "python",
   "nbconvert_exporter": "python",
   "pygments_lexer": "ipython3",
   "version": "3.7.3"
  }
 },
 "nbformat": 4,
 "nbformat_minor": 2
}
